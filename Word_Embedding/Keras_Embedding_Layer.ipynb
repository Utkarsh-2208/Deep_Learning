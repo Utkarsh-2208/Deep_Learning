{
 "cells": [
  {
   "cell_type": "code",
   "execution_count": 1,
   "id": "156b8b94-a978-4cd7-bc36-5d3e809e7335",
   "metadata": {},
   "outputs": [],
   "source": [
    "import numpy as np\n",
    "from tensorflow.keras.preprocessing.text import one_hot\n",
    "from tensorflow.keras.preprocessing.sequence import pad_sequences\n",
    "from tensorflow.keras.models import Sequential\n",
    "from tensorflow.keras.layers import Dense\n",
    "from tensorflow.keras.layers import Flatten\n",
    "from tensorflow.keras.layers import Embedding"
   ]
  },
  {
   "cell_type": "code",
   "execution_count": 2,
   "id": "0aa51c2b-a9fe-4b32-aa88-b7f83f18b917",
   "metadata": {},
   "outputs": [],
   "source": [
    "reviews = ['nice food',\n",
    "           'amazing restaurant',\n",
    "           'too good',\n",
    "           'just loved it!',\n",
    "           'will go again',\n",
    "           'horrible food',\n",
    "           'never go there',\n",
    "           'poor service',\n",
    "           'poor quality',\n",
    "           'needs improvement']\n",
    "\n",
    "sentiment = np.array([1,1,1,1,1,0,0,0,0,0])"
   ]
  },
  {
   "cell_type": "code",
   "execution_count": 3,
   "id": "a1f1400d-ecd9-44a2-9df7-cb4aed8b3db2",
   "metadata": {},
   "outputs": [
    {
     "data": {
      "text/plain": [
       "[[48, 17],\n",
       " [20, 28],\n",
       " [40, 26],\n",
       " [35, 46, 24],\n",
       " [11, 30, 28],\n",
       " [2, 17],\n",
       " [44, 30, 39],\n",
       " [20, 4],\n",
       " [20, 17],\n",
       " [30, 5]]"
      ]
     },
     "execution_count": 3,
     "metadata": {},
     "output_type": "execute_result"
    }
   ],
   "source": [
    "vocab_size = 50\n",
    "encoded_reviews = [one_hot(r, vocab_size) for r in reviews]\n",
    "encoded_reviews"
   ]
  },
  {
   "cell_type": "code",
   "execution_count": 4,
   "id": "0dfb9826-adb2-42a8-bde8-640752e3e8b1",
   "metadata": {},
   "outputs": [
    {
     "data": {
      "text/plain": [
       "array([[48, 17,  0],\n",
       "       [20, 28,  0],\n",
       "       [40, 26,  0],\n",
       "       [35, 46, 24],\n",
       "       [11, 30, 28],\n",
       "       [ 2, 17,  0],\n",
       "       [44, 30, 39],\n",
       "       [20,  4,  0],\n",
       "       [20, 17,  0],\n",
       "       [30,  5,  0]])"
      ]
     },
     "execution_count": 4,
     "metadata": {},
     "output_type": "execute_result"
    }
   ],
   "source": [
    "max_length = 3\n",
    "padded_reviews = pad_sequences(encoded_reviews, maxlen = max_length, padding = 'post')\n",
    "padded_reviews"
   ]
  },
  {
   "cell_type": "code",
   "execution_count": 5,
   "id": "45a894cb-3879-4a72-97f0-c6368d7c384f",
   "metadata": {},
   "outputs": [],
   "source": [
    "embeded_vector_size = 4\n",
    "\n",
    "model = Sequential()\n",
    "model.add(Embedding(vocab_size, embeded_vector_size, name = \"embedding\"))\n",
    "model.add(Flatten())\n",
    "model.add(Dense(1, activation = 'sigmoid'))"
   ]
  },
  {
   "cell_type": "code",
   "execution_count": 6,
   "id": "ebedff59-c6a6-4b54-b90f-33c65e9929fe",
   "metadata": {},
   "outputs": [],
   "source": [
    "X = padded_reviews\n",
    "y = sentiment"
   ]
  },
  {
   "cell_type": "code",
   "execution_count": 7,
   "id": "464c9564-e063-497c-a39a-5e90d6a942fe",
   "metadata": {},
   "outputs": [],
   "source": [
    "model.compile(\n",
    "    optimizer = 'adam', \n",
    "    loss = 'binary_crossentropy', \n",
    "    metrics = ['accuracy']\n",
    ")"
   ]
  },
  {
   "cell_type": "code",
   "execution_count": 8,
   "id": "1679c0ad-b8c9-4cac-8617-fac44de1cb7c",
   "metadata": {},
   "outputs": [
    {
     "data": {
      "text/plain": [
       "<keras.src.callbacks.history.History at 0x2773c53e390>"
      ]
     },
     "execution_count": 8,
     "metadata": {},
     "output_type": "execute_result"
    }
   ],
   "source": [
    "model.fit(X, y, epochs = 50, verbose = 0)"
   ]
  },
  {
   "cell_type": "code",
   "execution_count": 9,
   "id": "0c5fee2b-04aa-4d72-b557-482c3cf9241b",
   "metadata": {},
   "outputs": [
    {
     "name": "stdout",
     "output_type": "stream",
     "text": [
      "\u001b[1m1/1\u001b[0m \u001b[32m━━━━━━━━━━━━━━━━━━━━\u001b[0m\u001b[37m\u001b[0m \u001b[1m0s\u001b[0m 312ms/step - accuracy: 1.0000 - loss: 0.6299\n"
     ]
    },
    {
     "data": {
      "text/plain": [
       "[0.6299372911453247, 1.0]"
      ]
     },
     "execution_count": 9,
     "metadata": {},
     "output_type": "execute_result"
    }
   ],
   "source": [
    "model.evaluate(X, y)"
   ]
  },
  {
   "cell_type": "code",
   "execution_count": 10,
   "id": "89db6966-1bab-48ca-bee7-247bbc9cc620",
   "metadata": {},
   "outputs": [
    {
     "data": {
      "text/plain": [
       "50"
      ]
     },
     "execution_count": 10,
     "metadata": {},
     "output_type": "execute_result"
    }
   ],
   "source": [
    "weights = model.get_layer('embedding').get_weights()[0]\n",
    "len(weights)"
   ]
  },
  {
   "cell_type": "code",
   "execution_count": 11,
   "id": "790b4733-e8e4-43e0-ace6-d29975f0da21",
   "metadata": {},
   "outputs": [
    {
     "data": {
      "text/plain": [
       "array([-0.04247853, -0.01643535, -0.03501449,  0.03702665], dtype=float32)"
      ]
     },
     "execution_count": 11,
     "metadata": {},
     "output_type": "execute_result"
    }
   ],
   "source": [
    "weights[21]"
   ]
  },
  {
   "cell_type": "code",
   "execution_count": 12,
   "id": "a635425e-e685-4131-89cc-f78f0608feff",
   "metadata": {},
   "outputs": [
    {
     "data": {
      "text/plain": [
       "array([-0.01788728,  0.0493435 ,  0.01933462,  0.03462169], dtype=float32)"
      ]
     },
     "execution_count": 12,
     "metadata": {},
     "output_type": "execute_result"
    }
   ],
   "source": [
    "weights[45]"
   ]
  },
  {
   "cell_type": "code",
   "execution_count": 13,
   "id": "4d9e61b6-7a46-4a73-ac2c-906f99d95fe3",
   "metadata": {},
   "outputs": [
    {
     "data": {
      "text/plain": [
       "array([-0.05262876, -0.0223059 , -0.06261424, -0.08179744], dtype=float32)"
      ]
     },
     "execution_count": 13,
     "metadata": {},
     "output_type": "execute_result"
    }
   ],
   "source": [
    "weights[4]"
   ]
  },
  {
   "cell_type": "code",
   "execution_count": null,
   "id": "eb4dae19-f5b3-4059-803d-302c161bc5fc",
   "metadata": {},
   "outputs": [],
   "source": []
  }
 ],
 "metadata": {
  "kernelspec": {
   "display_name": "Python 3 (ipykernel)",
   "language": "python",
   "name": "python3"
  },
  "language_info": {
   "codemirror_mode": {
    "name": "ipython",
    "version": 3
   },
   "file_extension": ".py",
   "mimetype": "text/x-python",
   "name": "python",
   "nbconvert_exporter": "python",
   "pygments_lexer": "ipython3",
   "version": "3.11.7"
  }
 },
 "nbformat": 4,
 "nbformat_minor": 5
}
