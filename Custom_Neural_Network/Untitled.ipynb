{
 "cells": [
  {
   "cell_type": "code",
   "execution_count": 1,
   "id": "58596a02-e433-4090-9379-f5f61c704227",
   "metadata": {},
   "outputs": [],
   "source": [
    "import pandas as pd\n",
    "import numpy as np\n",
    "import tensorflow as tf\n",
    "from tensorflow import keras\n",
    "import matplotlib.pyplot as plt\n",
    "%matplotlib inline"
   ]
  },
  {
   "cell_type": "code",
   "execution_count": 2,
   "id": "abe0b2f2-2003-47f9-8b96-97c4c2547f1c",
   "metadata": {},
   "outputs": [
    {
     "data": {
      "text/html": [
       "<div>\n",
       "<style scoped>\n",
       "    .dataframe tbody tr th:only-of-type {\n",
       "        vertical-align: middle;\n",
       "    }\n",
       "\n",
       "    .dataframe tbody tr th {\n",
       "        vertical-align: top;\n",
       "    }\n",
       "\n",
       "    .dataframe thead th {\n",
       "        text-align: right;\n",
       "    }\n",
       "</style>\n",
       "<table border=\"1\" class=\"dataframe\">\n",
       "  <thead>\n",
       "    <tr style=\"text-align: right;\">\n",
       "      <th></th>\n",
       "      <th>age</th>\n",
       "      <th>affordibility</th>\n",
       "      <th>bought_insurance</th>\n",
       "    </tr>\n",
       "  </thead>\n",
       "  <tbody>\n",
       "    <tr>\n",
       "      <th>0</th>\n",
       "      <td>22</td>\n",
       "      <td>1</td>\n",
       "      <td>0</td>\n",
       "    </tr>\n",
       "    <tr>\n",
       "      <th>1</th>\n",
       "      <td>25</td>\n",
       "      <td>0</td>\n",
       "      <td>0</td>\n",
       "    </tr>\n",
       "    <tr>\n",
       "      <th>2</th>\n",
       "      <td>47</td>\n",
       "      <td>1</td>\n",
       "      <td>1</td>\n",
       "    </tr>\n",
       "    <tr>\n",
       "      <th>3</th>\n",
       "      <td>52</td>\n",
       "      <td>0</td>\n",
       "      <td>0</td>\n",
       "    </tr>\n",
       "    <tr>\n",
       "      <th>4</th>\n",
       "      <td>46</td>\n",
       "      <td>1</td>\n",
       "      <td>1</td>\n",
       "    </tr>\n",
       "  </tbody>\n",
       "</table>\n",
       "</div>"
      ],
      "text/plain": [
       "   age  affordibility  bought_insurance\n",
       "0   22              1                 0\n",
       "1   25              0                 0\n",
       "2   47              1                 1\n",
       "3   52              0                 0\n",
       "4   46              1                 1"
      ]
     },
     "execution_count": 2,
     "metadata": {},
     "output_type": "execute_result"
    }
   ],
   "source": [
    "df = pd.read_csv('insurance_data.csv')\n",
    "df.head()"
   ]
  },
  {
   "cell_type": "code",
   "execution_count": 3,
   "id": "6a3c8fd1-7397-4bd1-a5b9-e40c71295251",
   "metadata": {},
   "outputs": [],
   "source": [
    "X = df.drop('bought_insurance', axis = 1)\n",
    "y = df.iloc[:, -1]\n",
    "\n",
    "X['age'] = X['age'] / 100\n",
    "\n",
    "from sklearn.model_selection import train_test_split\n",
    "X_train, X_test, y_train, y_test = train_test_split(X, y, test_size = 0.2, random_state = 10)"
   ]
  },
  {
   "cell_type": "code",
   "execution_count": 4,
   "id": "8e29622b-1210-4aee-93b2-14a6688a4314",
   "metadata": {},
   "outputs": [],
   "source": [
    "# defining the sigmoid function\n",
    "\n",
    "def sigmoid(x):\n",
    "    return 1 / (1 + np.exp(-x))"
   ]
  },
  {
   "cell_type": "code",
   "execution_count": 5,
   "id": "04543ea2-a19f-4978-9b31-bb5cdde746c5",
   "metadata": {},
   "outputs": [],
   "source": [
    "# calculating cost using log-loss\n",
    "\n",
    "def log_loss(y_true, y_pred):\n",
    "    epsilon = 1e-15\n",
    "    y_pred_new = [max(i, epsilon) for i in y_pred]\n",
    "    y_pred_new = [min(i, 1 - epsilon) for i in y_pred_new]\n",
    "    y_pred_new = np.array(y_pred_new)\n",
    "    \n",
    "    return -np.mean(y_true * np.log(y_pred_new) + (1-y_true) * np.log(1-y_pred_new))"
   ]
  },
  {
   "cell_type": "code",
   "execution_count": 6,
   "id": "8043a1e1-e007-4e72-9b2b-45c6e23e4132",
   "metadata": {},
   "outputs": [],
   "source": [
    "# creating custom neural network \n",
    "\n",
    "class NN():\n",
    "    def __init__(self):\n",
    "        self.w1 = 1\n",
    "        self.w2 = 1\n",
    "        self.bias = 0\n",
    "\n",
    "    def fit(self, X, y, epochs, loss_threshold):\n",
    "        self.w1, self.w2, self.bias = self.gradient_descent(X['age'], X['affordibility'], y, epochs, loss_threshold)\n",
    "\n",
    "    def predict(self, X):\n",
    "        weighted_sum = self.w1 * X['age'] + self.w2 * X['affordibility'] + self.bias\n",
    "        return sigmoid(weighted_sum)\n",
    "\n",
    "    def gradient_descent(self, age, affordibility, y_true, epochs, loss_threshold):\n",
    "        w1 = 1\n",
    "        w2 = 1\n",
    "        bias = 0\n",
    "        rate = 0.5\n",
    "        n = len(age)\n",
    "    \n",
    "        for i in range(epochs):\n",
    "            weighted_sum = w1 * age + w2 * affordibility + bias\n",
    "            y_pred = sigmoid(weighted_sum)\n",
    "            loss = log_loss(y_true, y_pred)\n",
    "        \n",
    "            w1_derivative = (1/n) * np.dot(np.transpose(age), (y_pred - y_true))\n",
    "            w2_derivative = (1/n) * np.dot(np.transpose(affordibility), (y_pred - y_true))\n",
    "            bias_derivative = np.mean(y_pred - y_true)\n",
    "        \n",
    "            w1 = w1 - rate * w1_derivative\n",
    "            w2 = w2 - rate * w2_derivative\n",
    "            bias = bias - rate * bias_derivative\n",
    "            \n",
    "            if (i+1)%50 == 0:\n",
    "                print(f'Epoch : {i+1}, w1 : {round(w1, 4)}, w2 : {round(w2, 4)}, bias = {round(bias, 4)}, loss : {round(loss, 4)}')\n",
    "    \n",
    "            if loss <= loss_threshold:\n",
    "                print(f'Epoch : {i+1}, w1 : {round(w1, 4)}, w2 : {round(w2, 4)}, bias = {round(bias, 4)}, loss : {round(loss, 4)}')\n",
    "                break\n",
    "                \n",
    "        return w1, w2, bias"
   ]
  },
  {
   "cell_type": "code",
   "execution_count": 7,
   "id": "d80ed7c1-b28b-424f-8384-cd00d57b2c2f",
   "metadata": {},
   "outputs": [
    {
     "name": "stdout",
     "output_type": "stream",
     "text": [
      "Epoch : 50, w1 : 1.4254, w2 : 1.1244, bias = -1.3008, loss : 0.5677\n",
      "Epoch : 100, w1 : 2.0639, w2 : 1.395, bias = -1.7924, loss : 0.5384\n",
      "Epoch : 150, w1 : 2.6656, w2 : 1.5325, bias = -2.1576, loss : 0.5177\n",
      "Epoch : 200, w1 : 3.2235, w2 : 1.6071, bias = -2.4509, loss : 0.5015\n",
      "Epoch : 250, w1 : 3.7371, w2 : 1.6506, bias = -2.699, loss : 0.4883\n",
      "Epoch : 300, w1 : 4.2084, w2 : 1.6784, bias = -2.916, loss : 0.4775\n",
      "Epoch : 350, w1 : 4.6406, w2 : 1.6986, bias = -3.1102, loss : 0.4685\n",
      "Epoch : 400, w1 : 5.037, w2 : 1.715, bias = -3.2864, loss : 0.4609\n",
      "Epoch : 450, w1 : 5.4011, w2 : 1.7298, bias = -3.4478, loss : 0.4545\n",
      "Epoch : 492, w1 : 5.6844, w2 : 1.7416, bias = -3.5738, loss : 0.4499\n"
     ]
    }
   ],
   "source": [
    "model = NN()\n",
    "model.fit(X_train, y_train, epochs = 500, loss_threshold = 0.45)"
   ]
  },
  {
   "cell_type": "code",
   "execution_count": 8,
   "id": "e3057369-859c-4aee-9768-48045bae8664",
   "metadata": {},
   "outputs": [
    {
     "data": {
      "text/plain": [
       "7     0.459303\n",
       "21    0.109502\n",
       "5     0.794312\n",
       "2     0.698364\n",
       "13    0.127271\n",
       "19    0.308115\n",
       "dtype: float64"
      ]
     },
     "execution_count": 8,
     "metadata": {},
     "output_type": "execute_result"
    }
   ],
   "source": [
    "model.predict(X_test)"
   ]
  },
  {
   "cell_type": "code",
   "execution_count": null,
   "id": "81346f6c-0e49-4e84-9e40-18e496fbcbb3",
   "metadata": {},
   "outputs": [],
   "source": []
  }
 ],
 "metadata": {
  "kernelspec": {
   "display_name": "Python 3 (ipykernel)",
   "language": "python",
   "name": "python3"
  },
  "language_info": {
   "codemirror_mode": {
    "name": "ipython",
    "version": 3
   },
   "file_extension": ".py",
   "mimetype": "text/x-python",
   "name": "python",
   "nbconvert_exporter": "python",
   "pygments_lexer": "ipython3",
   "version": "3.11.7"
  }
 },
 "nbformat": 4,
 "nbformat_minor": 5
}
