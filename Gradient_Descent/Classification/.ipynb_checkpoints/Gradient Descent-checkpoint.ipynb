{
 "cells": [
  {
   "cell_type": "code",
   "execution_count": 1,
   "id": "e568fd43-5a43-423d-a97a-0a43d8ab56de",
   "metadata": {},
   "outputs": [],
   "source": [
    "import pandas as pd\n",
    "import numpy as np\n",
    "import tensorflow as tf\n",
    "from tensorflow import keras"
   ]
  },
  {
   "cell_type": "code",
   "execution_count": 2,
   "id": "f6227a6c-aa8b-4b48-b9bf-29cc329dcdca",
   "metadata": {},
   "outputs": [
    {
     "data": {
      "text/html": [
       "<div>\n",
       "<style scoped>\n",
       "    .dataframe tbody tr th:only-of-type {\n",
       "        vertical-align: middle;\n",
       "    }\n",
       "\n",
       "    .dataframe tbody tr th {\n",
       "        vertical-align: top;\n",
       "    }\n",
       "\n",
       "    .dataframe thead th {\n",
       "        text-align: right;\n",
       "    }\n",
       "</style>\n",
       "<table border=\"1\" class=\"dataframe\">\n",
       "  <thead>\n",
       "    <tr style=\"text-align: right;\">\n",
       "      <th></th>\n",
       "      <th>age</th>\n",
       "      <th>affordibility</th>\n",
       "      <th>bought_insurance</th>\n",
       "    </tr>\n",
       "  </thead>\n",
       "  <tbody>\n",
       "    <tr>\n",
       "      <th>0</th>\n",
       "      <td>22</td>\n",
       "      <td>1</td>\n",
       "      <td>0</td>\n",
       "    </tr>\n",
       "    <tr>\n",
       "      <th>1</th>\n",
       "      <td>25</td>\n",
       "      <td>0</td>\n",
       "      <td>0</td>\n",
       "    </tr>\n",
       "    <tr>\n",
       "      <th>2</th>\n",
       "      <td>47</td>\n",
       "      <td>1</td>\n",
       "      <td>1</td>\n",
       "    </tr>\n",
       "    <tr>\n",
       "      <th>3</th>\n",
       "      <td>52</td>\n",
       "      <td>0</td>\n",
       "      <td>0</td>\n",
       "    </tr>\n",
       "    <tr>\n",
       "      <th>4</th>\n",
       "      <td>46</td>\n",
       "      <td>1</td>\n",
       "      <td>1</td>\n",
       "    </tr>\n",
       "  </tbody>\n",
       "</table>\n",
       "</div>"
      ],
      "text/plain": [
       "   age  affordibility  bought_insurance\n",
       "0   22              1                 0\n",
       "1   25              0                 0\n",
       "2   47              1                 1\n",
       "3   52              0                 0\n",
       "4   46              1                 1"
      ]
     },
     "execution_count": 2,
     "metadata": {},
     "output_type": "execute_result"
    }
   ],
   "source": [
    "df = pd.read_csv('insurance_data.csv')\n",
    "df.head()"
   ]
  },
  {
   "cell_type": "code",
   "execution_count": 3,
   "id": "165ee9aa-9f5d-4556-95e2-455ac0c281d6",
   "metadata": {},
   "outputs": [],
   "source": [
    "X = df.drop('bought_insurance', axis = 1)\n",
    "y = df.iloc[:, -1]\n",
    "\n",
    "X['age'] = X['age'] / 100\n",
    "\n",
    "from sklearn.model_selection import train_test_split\n",
    "X_train, X_test, y_train, y_test = train_test_split(X, y, test_size = 0.2, random_state = 10)"
   ]
  },
  {
   "cell_type": "code",
   "execution_count": 4,
   "id": "16364e1f-5435-44db-8a18-2736e15c688c",
   "metadata": {},
   "outputs": [
    {
     "data": {
      "text/plain": [
       "\"model = keras.Sequential([\\n    keras.Input(shape = (2, )),\\n    keras.layers.Dense(1, activation = 'sigmoid', kernel_initializer = 'ones', bias_initializer = 'zeros')\\n])\\n\\nmodel.compile(\\n    optimizer = 'adam',\\n    loss = 'binary_crossentropy',\\n    metrics = ['accuracy']\\n)\\n\\nmodel.fit(X_train, y_train, epochs = 5000)\""
      ]
     },
     "execution_count": 4,
     "metadata": {},
     "output_type": "execute_result"
    }
   ],
   "source": [
    "model = keras.Sequential([\n",
    "    keras.Input(shape = (2, )),\n",
    "    keras.layers.Dense(1, activation = 'sigmoid', kernel_initializer = 'ones', bias_initializer = 'zeros')\n",
    "])\n",
    "\n",
    "model.compile(\n",
    "    optimizer = 'adam',\n",
    "    loss = 'binary_crossentropy',\n",
    "    metrics = ['accuracy']\n",
    ")\n",
    "\n",
    "model.fit(X_train, y_train, epochs = 4000)"
   ]
  },
  {
   "cell_type": "code",
   "execution_count": 5,
   "id": "26bce512-54ae-449d-b69d-4f7374327490",
   "metadata": {},
   "outputs": [],
   "source": [
    "model.evaluate(X_test, y_test)"
   ]
  },
  {
   "cell_type": "code",
   "execution_count": 6,
   "id": "4be48711-0b12-4ae1-9a9a-3cd28343fd61",
   "metadata": {},
   "outputs": [],
   "source": [
    "coeff, intercept = model.get_weights()\n",
    "coeff, intercept"
   ]
  },
  {
   "cell_type": "code",
   "execution_count": 7,
   "id": "9e718591-30b9-46a4-a234-27aac573d3a5",
   "metadata": {},
   "outputs": [],
   "source": [
    "model.predict(X_test)"
   ]
  },
  {
   "cell_type": "code",
   "execution_count": 8,
   "id": "c7fc1f90-7578-4341-bf75-65fe51413047",
   "metadata": {},
   "outputs": [],
   "source": [
    "def sigmoid(x):\n",
    "    return 1 / (1 + np.exp(-x))"
   ]
  },
  {
   "cell_type": "code",
   "execution_count": 9,
   "id": "416f0dda-f788-4283-b2e1-b13c0cf96f99",
   "metadata": {},
   "outputs": [
    {
     "data": {
      "text/plain": [
       "'def prediction_function(age, affordibility):\\n    weighted_sum = coeff[0] * age + coeff[1] * affordibility + intercept\\n    return sigmoid(weighted_sum)'"
      ]
     },
     "execution_count": 9,
     "metadata": {},
     "output_type": "execute_result"
    }
   ],
   "source": [
    "def prediction_function(age, affordibility):\n",
    "    weighted_sum = coeff[0] * age + coeff[1] * affordibility + intercept\n",
    "    return sigmoid(weighted_sum)"
   ]
  },
  {
   "cell_type": "code",
   "execution_count": 10,
   "id": "6bfe020b-e172-48f6-a546-c4126fd7a85c",
   "metadata": {},
   "outputs": [],
   "source": [
    "prediction_function(0.60, 0)"
   ]
  },
  {
   "cell_type": "code",
   "execution_count": 11,
   "id": "fe2b531d-8f5c-4157-af27-0a101573a143",
   "metadata": {},
   "outputs": [],
   "source": [
    "def log_loss(y_true, y_pred):\n",
    "    epsilon = 1e-15\n",
    "    y_pred_new = [max(i, epsilon) for i in y_pred]\n",
    "    y_pred_new = [min(i, 1 - epsilon) for i in y_pred_new]\n",
    "    y_pred_new = np.array(y_pred_new)\n",
    "    \n",
    "    cost = -np.mean(y_true * np.log(y_pred_new) + (1-y_true) * np.log(1-y_pred_new))\n",
    "    return cost"
   ]
  },
  {
   "cell_type": "code",
   "execution_count": 68,
   "id": "59064139-dfce-4e28-a2c5-63eca7963137",
   "metadata": {},
   "outputs": [],
   "source": [
    "import time\n",
    "\n",
    "def time_it(func):\n",
    "    def wrapper(*args, **kwargs):\n",
    "        start = time.time()\n",
    "        result = func(*args,**kwargs)\n",
    "        end = time.time()\n",
    "        print(func.__name__ +\" took \" + str((end-start)*1000) + \" mil sec\")\n",
    "        return result\n",
    "    return wrapper\n",
    "\n",
    "\n",
    "# checking time taken to calculate weights by first method i.e without using dot product in weighted_sum\n",
    "\n",
    "@time_it\n",
    "def gradient_descent(age, affordibility, y_true, epochs, cost_threshold = 1e-10):\n",
    "    w1 = 1\n",
    "    w2 = 1\n",
    "    bias = 0\n",
    "    rate = 0.5\n",
    "    n = len(age)\n",
    "\n",
    "    for i in range(epochs):\n",
    "        weighted_sum = w1 * age + w2 * affordibility + bias\n",
    "        y_pred = sigmoid(weighted_sum)\n",
    "        cost = log_loss(y_true, y_pred)\n",
    "    \n",
    "        w1_derivative = (1/n) * np.dot(np.transpose(age), (y_pred - y_true))\n",
    "        w2_derivative = (1/n) * np.dot(np.transpose(affordibility), (y_pred - y_true))\n",
    "        bias_derivative = np.mean(y_pred - y_true)\n",
    "    \n",
    "        w1 = w1 - rate * w1_derivative\n",
    "        w2 = w2 - rate * w2_derivative\n",
    "        bias = bias - rate * bias_derivative\n",
    "\n",
    "        if (i+1) % 500 == 0:\n",
    "            print(f'Epoch : {i+1}, w1 : {round(w1, 4)}, w2 : {round(w2, 4)}, bias = {round(bias, 4)}, cost : {round(cost, 4)}')\n",
    "            \n",
    "        if cost <= cost_threshold:\n",
    "            print(f'Epoch : {i+1}, w1 : {round(w1, 4)}, w2 : {round(w2, 4)}, bias = {round(bias, 4)}, cost : {round(cost, 4)}')\n",
    "            break\n",
    "            \n",
    "    print()\n",
    "    return w1, w2, bias"
   ]
  },
  {
   "cell_type": "code",
   "execution_count": 70,
   "id": "fdc95ddb-00e2-42f2-8dca-d41cfa66cec7",
   "metadata": {},
   "outputs": [
    {
     "name": "stdout",
     "output_type": "stream",
     "text": [
      "Epoch : 500, w1 : 5.7361, w2 : 1.7439, bias = -3.5968, cost : 0.4491\n",
      "Epoch : 1000, w1 : 7.9938, w2 : 1.8782, bias = -4.6358, cost : 0.4233\n",
      "Epoch : 1500, w1 : 9.1644, w2 : 1.9814, bias = -5.2053, cost : 0.4162\n",
      "Epoch : 2000, w1 : 9.8353, w2 : 2.0501, bias = -5.5408, cost : 0.4139\n",
      "Epoch : 2500, w1 : 10.2408, w2 : 2.0946, bias = -5.7464, cost : 0.4131\n",
      "Epoch : 3000, w1 : 10.4934, w2 : 2.1233, bias = -5.8755, cost : 0.4127\n",
      "Epoch : 3500, w1 : 10.6537, w2 : 2.1418, bias = -5.9578, cost : 0.4126\n",
      "Epoch : 4000, w1 : 10.7565, w2 : 2.1539, bias = -6.0108, cost : 0.4125\n",
      "Epoch : 4500, w1 : 10.8229, w2 : 2.1617, bias = -6.045, cost : 0.4125\n",
      "Epoch : 5000, w1 : 10.866, w2 : 2.1669, bias = -6.0673, cost : 0.4125\n",
      "\n",
      "gradient_descent took 6982.695579528809 mil sec\n"
     ]
    },
    {
     "data": {
      "text/plain": [
       "(10.865972682781248, 2.1668548545378274, -6.067287519616324)"
      ]
     },
     "execution_count": 70,
     "metadata": {},
     "output_type": "execute_result"
    }
   ],
   "source": [
    "gradient_descent(X_train['age'], X_train['affordibility'], y_train, epochs = 5000)"
   ]
  },
  {
   "cell_type": "code",
   "execution_count": 72,
   "id": "6f31febd-0847-41ba-86e1-4ff90459f06b",
   "metadata": {},
   "outputs": [],
   "source": [
    "import time\n",
    "\n",
    "def time_it(func):\n",
    "    def wrapper(*args, **kwargs):\n",
    "        start = time.time()\n",
    "        result = func(*args,**kwargs)\n",
    "        end = time.time()\n",
    "        print(func.__name__ +\" took \" + str((end-start)*1000) + \" mil sec\")\n",
    "        return result\n",
    "    return wrapper\n",
    "\n",
    "# checking time taken to calculate weights by second method i.e by using dot product in weighted_sum\n",
    "\n",
    "@time_it\n",
    "def gradient_descent(X, y_true, epochs, learning_rate = 0.5, cost_threshold = 1e-10):\n",
    "\n",
    "    bias = 0\n",
    "    total_samples = X.shape[0]\n",
    "\n",
    "    no_of_features = X.shape[1]\n",
    "    w = np.ones(shape = no_of_features)\n",
    "\n",
    "    for i in range(epochs):\n",
    "        weighted_sum = np.dot(w, X.T) + bias\n",
    "        y_pred = sigmoid(weighted_sum)\n",
    "        cost = log_loss(y_true, y_pred)\n",
    "        \n",
    "        w_derivative = -(2/total_samples) * (np.dot(X.T, (y_true - y_pred)))\n",
    "        bias_derivative = -(2/total_samples) * np.sum(y_true - y_pred)\n",
    "\n",
    "        w = w - learning_rate * w_derivative\n",
    "        bias = bias - learning_rate * bias_derivative\n",
    "\n",
    "        if (i+1) % 500 == 0:\n",
    "            print(f'Epoch : {i+1}, w1 : {round(w[0], 4)}, w2 : {round(w[1], 4)}, bias = {round(bias, 4)}, cost : {round(cost, 4)}')\n",
    "            \n",
    "        if cost <= cost_threshold:\n",
    "            print(f'Epoch : {i+1}, w1 : {round(w1, 4)}, w2 : {round(w2, 4)}, bias = {round(bias, 4)}, loss : {round(loss, 4)}')\n",
    "            break\n",
    "            \n",
    "    print()\n",
    "    return w, bias, cost"
   ]
  },
  {
   "cell_type": "code",
   "execution_count": 74,
   "id": "14fa58d9-0eff-44cc-9db6-51cff803cc32",
   "metadata": {},
   "outputs": [
    {
     "name": "stdout",
     "output_type": "stream",
     "text": [
      "Epoch : 500, w1 : 7.9965, w2 : 1.8784, bias = -4.6371, cost : 0.4233\n",
      "Epoch : 1000, w1 : 9.8367, w2 : 2.0503, bias = -5.5415, cost : 0.4139\n",
      "Epoch : 1500, w1 : 10.4942, w2 : 2.1233, bias = -5.8759, cost : 0.4127\n",
      "Epoch : 2000, w1 : 10.7569, w2 : 2.1539, bias = -6.011, cost : 0.4125\n",
      "Epoch : 2500, w1 : 10.8662, w2 : 2.1669, bias = -6.0674, cost : 0.4125\n",
      "Epoch : 3000, w1 : 10.9124, w2 : 2.1724, bias = -6.0913, cost : 0.4125\n",
      "Epoch : 3500, w1 : 10.9321, w2 : 2.1747, bias = -6.1015, cost : 0.4125\n",
      "Epoch : 4000, w1 : 10.9405, w2 : 2.1757, bias = -6.1058, cost : 0.4125\n",
      "Epoch : 4500, w1 : 10.944, w2 : 2.1762, bias = -6.1077, cost : 0.4125\n",
      "Epoch : 5000, w1 : 10.9456, w2 : 2.1764, bias = -6.1085, cost : 0.4125\n",
      "\n",
      "gradient_descent took 6808.566570281982 mil sec\n"
     ]
    },
    {
     "data": {
      "text/plain": [
       "(array([10.94558088,  2.17635521]), -6.108450180656333, 0.41249735043540864)"
      ]
     },
     "execution_count": 74,
     "metadata": {},
     "output_type": "execute_result"
    }
   ],
   "source": [
    "gradient_descent(X_train, y_train, epochs = 5000)"
   ]
  },
  {
   "cell_type": "code",
   "execution_count": null,
   "id": "5d4eb3bd-240a-4ba1-b5d3-49e9ae59c093",
   "metadata": {},
   "outputs": [],
   "source": []
  }
 ],
 "metadata": {
  "kernelspec": {
   "display_name": "Python 3 (ipykernel)",
   "language": "python",
   "name": "python3"
  },
  "language_info": {
   "codemirror_mode": {
    "name": "ipython",
    "version": 3
   },
   "file_extension": ".py",
   "mimetype": "text/x-python",
   "name": "python",
   "nbconvert_exporter": "python",
   "pygments_lexer": "ipython3",
   "version": "3.11.7"
  }
 },
 "nbformat": 4,
 "nbformat_minor": 5
}
