{
 "cells": [
  {
   "cell_type": "code",
   "execution_count": 1,
   "id": "1ca6e247-c6a9-446b-ada2-8881a046f196",
   "metadata": {},
   "outputs": [],
   "source": [
    "import pandas as pd\n",
    "import numpy as np"
   ]
  },
  {
   "cell_type": "code",
   "execution_count": 2,
   "id": "4b6bd9a8-4b0f-483b-af57-de668203ce29",
   "metadata": {},
   "outputs": [
    {
     "data": {
      "text/html": [
       "<div>\n",
       "<style scoped>\n",
       "    .dataframe tbody tr th:only-of-type {\n",
       "        vertical-align: middle;\n",
       "    }\n",
       "\n",
       "    .dataframe tbody tr th {\n",
       "        vertical-align: top;\n",
       "    }\n",
       "\n",
       "    .dataframe thead th {\n",
       "        text-align: right;\n",
       "    }\n",
       "</style>\n",
       "<table border=\"1\" class=\"dataframe\">\n",
       "  <thead>\n",
       "    <tr style=\"text-align: right;\">\n",
       "      <th></th>\n",
       "      <th>area</th>\n",
       "      <th>bedrooms</th>\n",
       "      <th>price</th>\n",
       "    </tr>\n",
       "  </thead>\n",
       "  <tbody>\n",
       "    <tr>\n",
       "      <th>0</th>\n",
       "      <td>1056</td>\n",
       "      <td>2</td>\n",
       "      <td>39.07</td>\n",
       "    </tr>\n",
       "    <tr>\n",
       "      <th>1</th>\n",
       "      <td>2600</td>\n",
       "      <td>4</td>\n",
       "      <td>120.00</td>\n",
       "    </tr>\n",
       "    <tr>\n",
       "      <th>2</th>\n",
       "      <td>1440</td>\n",
       "      <td>3</td>\n",
       "      <td>62.00</td>\n",
       "    </tr>\n",
       "    <tr>\n",
       "      <th>3</th>\n",
       "      <td>1521</td>\n",
       "      <td>3</td>\n",
       "      <td>75.00</td>\n",
       "    </tr>\n",
       "    <tr>\n",
       "      <th>4</th>\n",
       "      <td>1200</td>\n",
       "      <td>2</td>\n",
       "      <td>51.00</td>\n",
       "    </tr>\n",
       "  </tbody>\n",
       "</table>\n",
       "</div>"
      ],
      "text/plain": [
       "   area  bedrooms   price\n",
       "0  1056         2   39.07\n",
       "1  2600         4  120.00\n",
       "2  1440         3   62.00\n",
       "3  1521         3   75.00\n",
       "4  1200         2   51.00"
      ]
     },
     "execution_count": 2,
     "metadata": {},
     "output_type": "execute_result"
    }
   ],
   "source": [
    "df = pd.read_csv('homeprices_banglore.csv')\n",
    "df.head()"
   ]
  },
  {
   "cell_type": "code",
   "execution_count": 3,
   "id": "f7cdaaf1-22e3-4cb1-82be-34331a5fbde7",
   "metadata": {},
   "outputs": [],
   "source": [
    "X = df.drop('price', axis = 1)\n",
    "y = df.iloc[:, -1]"
   ]
  },
  {
   "cell_type": "code",
   "execution_count": 4,
   "id": "3fb2a29f-eb78-41f2-9119-6e520f8e15b9",
   "metadata": {},
   "outputs": [],
   "source": [
    "from sklearn.preprocessing import MinMaxScaler\n",
    "\n",
    "sx = MinMaxScaler()\n",
    "sy = MinMaxScaler()\n",
    "\n",
    "X_scaled = sx.fit_transform(X.values)\n",
    "y_scaled = sy.fit_transform(y.values.reshape(df.shape[0], 1))"
   ]
  },
  {
   "cell_type": "code",
   "execution_count": 5,
   "id": "99b1f67c-b76d-45ba-9621-d356b98c718e",
   "metadata": {},
   "outputs": [],
   "source": [
    "def mini_batch_gradient_descent(X, y_true, epochs, batch_size, learning_rate = 0.01):\n",
    "    \n",
    "    number_of_features = X.shape[1]\n",
    "    \n",
    "    w = np.ones(shape = (number_of_features)) \n",
    "    bias = 0\n",
    "    total_samples = X.shape[0] \n",
    "    \n",
    "    if batch_size > total_samples: \n",
    "        batch_size = total_samples\n",
    "        \n",
    "    cost_list = []\n",
    "    epoch_list = []\n",
    "        \n",
    "    for i in range(epochs):    \n",
    "        random_indices = np.random.permutation(total_samples)\n",
    "        X_tmp = X[random_indices]\n",
    "        y_tmp = y_true[random_indices]\n",
    "        \n",
    "        for j in range(0, total_samples, batch_size):\n",
    "            Xj = X_tmp[j: j + batch_size]\n",
    "            yj = y_tmp[j: j + batch_size]\n",
    "            \n",
    "            y_pred = np.dot(w, Xj.T) + bias\n",
    "            \n",
    "            w_grad = -(2/len(Xj)) * (Xj.T.dot(yj - y_pred))\n",
    "            b_grad = -(2/len(Xj)) * np.sum(yj - y_pred)\n",
    "            \n",
    "            w = w - learning_rate * w_grad\n",
    "            bias = bias - learning_rate * b_grad\n",
    "                \n",
    "            cost = np.mean(np.square(yj - y_pred))\n",
    "        \n",
    "        if i%10 == 0:\n",
    "            cost_list.append(cost)\n",
    "            epoch_list.append(i)\n",
    "        \n",
    "    return w, bias, cost, cost_list, epoch_list"
   ]
  },
  {
   "cell_type": "code",
   "execution_count": 6,
   "id": "46cff2d8-46b0-48b4-bde9-67599929529f",
   "metadata": {},
   "outputs": [
    {
     "data": {
      "text/plain": [
       "(array([0.71011181, 0.6781907 ]), -0.2332353767960886, 0.012404893013662667)"
      ]
     },
     "execution_count": 6,
     "metadata": {},
     "output_type": "execute_result"
    }
   ],
   "source": [
    "w_mb, bias_mb, cost_mb, cost_list_mb, epoch_list_mb = mini_batch_gradient_descent(\n",
    "                                                                            X_scaled,\n",
    "                                                                            y_scaled.reshape(y_scaled.shape[0], ),\n",
    "                                                                            epochs = 120,\n",
    "                                                                            batch_size = 5)\n",
    "w_mb, bias_mb, cost_mb"
   ]
  },
  {
   "cell_type": "code",
   "execution_count": 7,
   "id": "f6215591-a2c6-4144-876d-6ac37b8bb1f9",
   "metadata": {},
   "outputs": [
    {
     "data": {
      "text/plain": [
       "[<matplotlib.lines.Line2D at 0x2dbc673be50>]"
      ]
     },
     "execution_count": 7,
     "metadata": {},
     "output_type": "execute_result"
    },
    {
     "data": {
      "image/png": "[encoded data removed]",
      "text/plain": [
       "<Figure size 500x300 with 1 Axes>"
      ]
     },
     "metadata": {},
     "output_type": "display_data"
    }
   ],
   "source": [
    "import matplotlib.pyplot as plt\n",
    "plt.figure(figsize = (5, 3))\n",
    "plt.xlabel(\"epoch\")\n",
    "plt.ylabel(\"cost\")\n",
    "plt.plot(epoch_list_mb ,cost_list_mb)"
   ]
  },
  {
   "cell_type": "code",
   "execution_count": 8,
   "id": "ff88fe0f-5cea-4095-a897-0e0c473d9c37",
   "metadata": {},
   "outputs": [],
   "source": [
    "def predict(area, bedrooms, w, bias):\n",
    "    X_scaled = sx.transform([[area, bedrooms]])[0]\n",
    "    price_scaled = X_scaled[0]* w[0] + X_scaled[1]* w[1] + bias\n",
    "    price = sy.inverse_transform([[price_scaled]])[0][0]\n",
    "    return price"
   ]
  },
  {
   "cell_type": "code",
   "execution_count": 9,
   "id": "eeac7ea0-4aff-49e5-a977-8e0e211df009",
   "metadata": {},
   "outputs": [
    {
     "data": {
      "text/plain": [
       "128.68250547828453"
      ]
     },
     "execution_count": 9,
     "metadata": {},
     "output_type": "execute_result"
    }
   ],
   "source": [
    "predict(2600, 4, w_mb, bias_mb)"
   ]
  },
  {
   "cell_type": "code",
   "execution_count": null,
   "id": "7cbb9e9c-4852-44d2-bf4a-e01d4b0d6864",
   "metadata": {},
   "outputs": [],
   "source": []
  }
 ],
 "metadata": {
  "kernelspec": {
   "display_name": "Python 3 (ipykernel)",
   "language": "python",
   "name": "python3"
  },
  "language_info": {
   "codemirror_mode": {
    "name": "ipython",
    "version": 3
   },
   "file_extension": ".py",
   "mimetype": "text/x-python",
   "name": "python",
   "nbconvert_exporter": "python",
   "pygments_lexer": "ipython3",
   "version": "3.11.7"
  }
 },
 "nbformat": 4,
 "nbformat_minor": 5
}
