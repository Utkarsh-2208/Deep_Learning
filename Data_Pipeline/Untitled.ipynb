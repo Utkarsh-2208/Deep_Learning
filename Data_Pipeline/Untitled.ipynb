{
 "cells": [
  {
   "cell_type": "code",
   "execution_count": 1,
   "id": "e4da0d01-ab65-4d8e-8482-999c1d732d6f",
   "metadata": {},
   "outputs": [],
   "source": [
    "import tensorflow as tf"
   ]
  },
  {
   "cell_type": "code",
   "execution_count": 2,
   "id": "fc4ec7c5-c961-46fc-8680-f3fa4a554699",
   "metadata": {},
   "outputs": [
    {
     "data": {
      "text/plain": [
       "<_TensorSliceDataset element_spec=TensorSpec(shape=(), dtype=tf.int32, name=None)>"
      ]
     },
     "execution_count": 2,
     "metadata": {},
     "output_type": "execute_result"
    }
   ],
   "source": [
    "daily_sales_numbers = [21, 22, -108, 31, -1, 32, 34, 31]\n",
    "\n",
    "tf_dataset = tf.data.Dataset.from_tensor_slices(daily_sales_numbers)\n",
    "tf_dataset "
   ]
  },
  {
   "cell_type": "code",
   "execution_count": 3,
   "id": "87b95c21-de77-4a5d-8261-25e756c01674",
   "metadata": {},
   "outputs": [
    {
     "name": "stdout",
     "output_type": "stream",
     "text": [
      "21\n",
      "22\n",
      "-108\n",
      "31\n",
      "-1\n",
      "32\n",
      "34\n",
      "31\n"
     ]
    }
   ],
   "source": [
    "for sales in tf_dataset:\n",
    "    print(sales.numpy())"
   ]
  },
  {
   "cell_type": "code",
   "execution_count": 4,
   "id": "91ca8b46-1521-4058-bb34-126dcc7c8c8e",
   "metadata": {},
   "outputs": [
    {
     "name": "stdout",
     "output_type": "stream",
     "text": [
      "21\n",
      "22\n",
      "-108\n",
      "31\n",
      "-1\n",
      "32\n",
      "34\n",
      "31\n"
     ]
    }
   ],
   "source": [
    "for sales in tf_dataset.as_numpy_iterator():\n",
    "    print(sales)"
   ]
  },
  {
   "cell_type": "code",
   "execution_count": 5,
   "id": "d9992d75-06c5-487a-833c-f66ed3324867",
   "metadata": {},
   "outputs": [
    {
     "name": "stdout",
     "output_type": "stream",
     "text": [
      "21\n",
      "22\n",
      "-108\n"
     ]
    }
   ],
   "source": [
    "for sales in tf_dataset.take(3):\n",
    "    print(sales.numpy())"
   ]
  },
  {
   "cell_type": "code",
   "execution_count": 6,
   "id": "143a4a7d-b051-419c-8cfa-e604c0677e9f",
   "metadata": {},
   "outputs": [
    {
     "name": "stdout",
     "output_type": "stream",
     "text": [
      "21\n",
      "22\n",
      "31\n",
      "32\n",
      "34\n",
      "31\n"
     ]
    }
   ],
   "source": [
    "tf_dataset = tf_dataset.filter(lambda x: x > 0)\n",
    "for sales in tf_dataset.as_numpy_iterator():\n",
    "    print(sales)"
   ]
  },
  {
   "cell_type": "code",
   "execution_count": 7,
   "id": "cb3d7db9-d2ae-431e-a617-0870b2f08d37",
   "metadata": {},
   "outputs": [
    {
     "name": "stdout",
     "output_type": "stream",
     "text": [
      "1512\n",
      "1584\n",
      "2232\n",
      "2304\n",
      "2448\n",
      "2232\n"
     ]
    }
   ],
   "source": [
    "tf_dataset = tf_dataset.map(lambda x: x * 72)\n",
    "for sales in tf_dataset.as_numpy_iterator():\n",
    "    print(sales)"
   ]
  },
  {
   "cell_type": "code",
   "execution_count": 8,
   "id": "e2ed646a-cc26-4e90-a3a4-72513bbfa1d2",
   "metadata": {},
   "outputs": [
    {
     "name": "stdout",
     "output_type": "stream",
     "text": [
      "1584\n",
      "1512\n",
      "2232\n",
      "2304\n",
      "2448\n",
      "2232\n"
     ]
    }
   ],
   "source": [
    "tf_dataset = tf_dataset.shuffle(2)\n",
    "for sales in tf_dataset.as_numpy_iterator():\n",
    "    print(sales)"
   ]
  },
  {
   "cell_type": "code",
   "execution_count": 9,
   "id": "881201d8-6670-421d-99bc-7eb6a4413448",
   "metadata": {},
   "outputs": [
    {
     "name": "stdout",
     "output_type": "stream",
     "text": [
      "[1512 2232]\n",
      "[2304 1584]\n",
      "[2448 2232]\n"
     ]
    }
   ],
   "source": [
    "for sales_batch in tf_dataset.batch(2):\n",
    "    print(sales_batch.numpy())"
   ]
  },
  {
   "cell_type": "code",
   "execution_count": 10,
   "id": "3419634f-6477-4280-8b45-7729b242132a",
   "metadata": {},
   "outputs": [
    {
     "name": "stdout",
     "output_type": "stream",
     "text": [
      "[1512 2232]\n",
      "[1584 2448]\n",
      "[2232 2304]\n"
     ]
    }
   ],
   "source": [
    "tf_dataset = tf.data.Dataset.from_tensor_slices(daily_sales_numbers)\n",
    "\n",
    "tf_dataset = tf_dataset.filter(lambda x: x > 0).map(lambda y: y * 72).shuffle(2).batch(2)\n",
    "for sales in tf_dataset.as_numpy_iterator():\n",
    "    print(sales)"
   ]
  },
  {
   "cell_type": "markdown",
   "id": "0aaf441b-e63f-491a-9872-a36bf579ec55",
   "metadata": {},
   "source": [
    "## Images"
   ]
  },
  {
   "cell_type": "code",
   "execution_count": 12,
   "id": "cf5d6b43-8e22-412e-ae23-04aa90ab1b0c",
   "metadata": {},
   "outputs": [],
   "source": [
    "images_ds = tf.data.Dataset.list_files('images/*/*', shuffle = False)"
   ]
  },
  {
   "cell_type": "code",
   "execution_count": 13,
   "id": "5552887a-8d47-4b43-816a-9003e769fb85",
   "metadata": {},
   "outputs": [
    {
     "data": {
      "text/plain": [
       "132"
      ]
     },
     "execution_count": 13,
     "metadata": {},
     "output_type": "execute_result"
    }
   ],
   "source": [
    "image_count = len(images_ds)\n",
    "image_count"
   ]
  },
  {
   "cell_type": "code",
   "execution_count": 14,
   "id": "e93698df-caca-4987-bcdd-9b8d2125cee5",
   "metadata": {},
   "outputs": [
    {
     "data": {
      "text/plain": [
       "tensorflow.python.data.ops.from_tensor_slices_op._TensorSliceDataset"
      ]
     },
     "execution_count": 14,
     "metadata": {},
     "output_type": "execute_result"
    }
   ],
   "source": [
    "type(images_ds)"
   ]
  },
  {
   "cell_type": "code",
   "execution_count": 15,
   "id": "e522457e-72fc-4ad2-94c8-496f93576c94",
   "metadata": {},
   "outputs": [
    {
     "name": "stdout",
     "output_type": "stream",
     "text": [
      "b'images\\\\cat\\\\.ipynb_checkpoints'\n",
      "b'images\\\\cat\\\\20 Reasons Why Cats Make the Best Pets....jpg'\n",
      "b'images\\\\cat\\\\7 Foods Your Cat Can_t Eat.jpg'\n"
     ]
    }
   ],
   "source": [
    "for file in images_ds.take(3):\n",
    "    print(file.numpy())"
   ]
  },
  {
   "cell_type": "code",
   "execution_count": 16,
   "id": "729e8dab-529a-4cb2-a00e-cbc4090ac3f7",
   "metadata": {},
   "outputs": [
    {
     "name": "stdout",
     "output_type": "stream",
     "text": [
      "b'images\\\\dog\\\\Rescue turns dog with untreatable tumor....jpg'\n",
      "b'images\\\\dog\\\\Science_ Talking to Your Dog Means You....jpg'\n",
      "b'images\\\\dog\\\\The Cost of Owning a Dog.jpg'\n"
     ]
    }
   ],
   "source": [
    "images_ds = images_ds.shuffle(200)\n",
    "for file in images_ds.take(3):\n",
    "    print(file.numpy())"
   ]
  },
  {
   "cell_type": "code",
   "execution_count": 17,
   "id": "31f67d1f-4b12-48b0-9687-063e2f03019f",
   "metadata": {},
   "outputs": [],
   "source": [
    "class_names = [\"cat\",\"dog\"]"
   ]
  },
  {
   "cell_type": "code",
   "execution_count": 18,
   "id": "5a77b38b-03de-4390-b8b5-68687ad0e161",
   "metadata": {},
   "outputs": [],
   "source": [
    "train_size = int(image_count * 0.8)\n",
    "train_ds = images_ds.take(train_size)\n",
    "test_ds = images_ds.skip(train_size)"
   ]
  },
  {
   "cell_type": "code",
   "execution_count": 19,
   "id": "95240350-983b-43bf-94bf-5e7041ac90aa",
   "metadata": {},
   "outputs": [
    {
     "data": {
      "text/plain": [
       "105"
      ]
     },
     "execution_count": 19,
     "metadata": {},
     "output_type": "execute_result"
    }
   ],
   "source": [
    "len(train_ds)"
   ]
  },
  {
   "cell_type": "code",
   "execution_count": 20,
   "id": "9a7f1d2e-85b8-4cc4-b749-366c369c5247",
   "metadata": {},
   "outputs": [
    {
     "data": {
      "text/plain": [
       "27"
      ]
     },
     "execution_count": 20,
     "metadata": {},
     "output_type": "execute_result"
    }
   ],
   "source": [
    "len(test_ds)"
   ]
  },
  {
   "cell_type": "code",
   "execution_count": 21,
   "id": "4e42fe2a-6ae0-471e-8565-281fa1222ab8",
   "metadata": {},
   "outputs": [],
   "source": [
    "import os\n",
    "\n",
    "def get_label(file_path):\n",
    "    parts = tf.strings.split(file_path, os.path.sep)\n",
    "    return parts[-2]"
   ]
  },
  {
   "cell_type": "code",
   "execution_count": 22,
   "id": "8fd8af3b-a565-4e5f-8735-2b128cb1b3ce",
   "metadata": {},
   "outputs": [
    {
     "data": {
      "text/plain": [
       "<tf.Tensor: shape=(), dtype=string, numpy=b'cat'>"
      ]
     },
     "execution_count": 22,
     "metadata": {},
     "output_type": "execute_result"
    }
   ],
   "source": [
    "get_label(\"images\\\\cat\\\\20 Reasons Why Cats Make the Best Pets....jpg\")"
   ]
  },
  {
   "cell_type": "code",
   "execution_count": 23,
   "id": "c32dfd4e-da9f-4ea3-adb7-d250601b4d69",
   "metadata": {},
   "outputs": [],
   "source": [
    "def process_image(file_path):\n",
    "    label = get_label(file_path)\n",
    "    img = tf.io.read_file(file_path) # load the raw data from the file as a string\n",
    "    img = tf.image.decode_jpeg(img)\n",
    "    img = tf.image.resize(img, [128, 128])\n",
    "    return img, label"
   ]
  },
  {
   "cell_type": "code",
   "execution_count": 24,
   "id": "3f1841cd-5a9c-4168-8d38-6f6e04eb6e42",
   "metadata": {},
   "outputs": [
    {
     "data": {
      "text/plain": [
       "array([[[155.      , 186.      , 215.      ],\n",
       "        [156.      , 187.      , 216.      ],\n",
       "        [158.      , 189.      , 218.      ],\n",
       "        [160.0039  , 189.0039  , 219.0039  ],\n",
       "        [161.0039  , 190.0039  , 220.0039  ],\n",
       "        [162.      , 191.      , 221.      ],\n",
       "        [166.      , 193.      , 222.      ],\n",
       "        [167.      , 194.      , 223.      ],\n",
       "        [168.      , 195.      , 224.      ],\n",
       "        [169.      , 196.      , 225.      ],\n",
       "        [170.      , 197.      , 224.      ],\n",
       "        [170.0039  , 197.0039  , 224.0039  ],\n",
       "        [172.      , 199.      , 226.      ],\n",
       "        [173.0039  , 199.0039  , 224.0039  ],\n",
       "        [174.0039  , 200.0039  , 225.0039  ],\n",
       "        [175.0039  , 201.0039  , 226.0039  ],\n",
       "        [176.      , 202.      , 227.      ],\n",
       "        [177.0039  , 203.0039  , 228.0039  ],\n",
       "        [177.0039  , 203.0039  , 228.0039  ],\n",
       "        [179.0039  , 203.0039  , 227.0039  ],\n",
       "        [180.0039  , 204.0039  , 228.0039  ],\n",
       "        [180.0039  , 204.0039  , 228.0039  ],\n",
       "        [181.0039  , 206.0039  , 228.0039  ],\n",
       "        [182.0039  , 207.0039  , 229.0039  ],\n",
       "        [184.      , 209.      , 231.      ],\n",
       "        [184.      , 209.      , 231.      ],\n",
       "        [184.      , 209.      , 231.      ],\n",
       "        [184.      , 209.      , 231.      ],\n",
       "        [182.9961  , 207.9961  , 229.9961  ],\n",
       "        [174.9961  , 201.9961  , 222.9961  ],\n",
       "        [168.9961  , 195.9961  , 216.9961  ],\n",
       "        [158.99219 , 185.99219 , 206.99219 ],\n",
       "        [143.9961  , 168.9961  , 190.9961  ],\n",
       "        [131.9961  , 148.98828 , 168.98438 ],\n",
       "        [115.98828 , 126.97266 , 132.97266 ],\n",
       "        [106.98047 , 102.984375,  99.97656 ],\n",
       "        [ 98.99219 ,  95.984375,  90.98047 ],\n",
       "        [ 97.99219 ,  95.99219 ,  83.98828 ],\n",
       "        [ 97.99219 ,  91.99219 ,  77.99219 ],\n",
       "        [ 98.99609 ,  91.99609 ,  75.99609 ],\n",
       "        [ 99.      ,  92.      ,  74.      ],\n",
       "        [102.      ,  95.      ,  77.      ],\n",
       "        [112.99609 , 103.99609 ,  86.99609 ],\n",
       "        [125.99609 , 113.99609 ,  99.99609 ],\n",
       "        [133.99219 , 119.99219 , 108.99219 ],\n",
       "        [139.99219 , 127.99219 , 113.99219 ],\n",
       "        [143.9961  , 131.9961  , 117.99609 ],\n",
       "        [143.9961  , 131.9961  , 117.99609 ],\n",
       "        [142.      , 128.      , 119.      ],\n",
       "        [135.0039  , 122.00391 , 113.00391 ],\n",
       "        [122.00391 , 114.00391 , 103.00391 ],\n",
       "        [112.00391 , 103.00391 ,  94.00391 ],\n",
       "        [102.00391 ,  95.00391 ,  87.00391 ],\n",
       "        [ 91.      ,  86.      ,  80.      ],\n",
       "        [ 83.      ,  78.      ,  72.      ],\n",
       "        [ 75.00391 ,  70.00391 ,  64.00391 ],\n",
       "        [ 69.      ,  64.      ,  58.      ],\n",
       "        [ 61.      ,  58.      ,  51.      ],\n",
       "        [ 59.      ,  54.      ,  51.      ],\n",
       "        [ 61.996094,  52.996094,  55.996094],\n",
       "        [ 62.996094,  49.996094,  58.996094],\n",
       "        [ 61.      ,  49.      ,  53.      ],\n",
       "        [ 60.      ,  48.      ,  52.      ],\n",
       "        [ 59.      ,  47.      ,  51.      ],\n",
       "        [ 57.      ,  45.      ,  49.      ],\n",
       "        [ 55.      ,  45.      ,  44.      ],\n",
       "        [ 50.996094,  43.996094,  37.996094],\n",
       "        [ 45.996094,  42.996094,  35.996094],\n",
       "        [ 45.996094,  42.996094,  33.996094],\n",
       "        [ 45.      ,  43.      ,  31.      ],\n",
       "        [ 46.      ,  44.      ,  31.      ],\n",
       "        [ 48.      ,  46.      ,  33.      ],\n",
       "        [ 48.      ,  46.      ,  33.      ],\n",
       "        [ 49.003906,  47.003906,  34.003906],\n",
       "        [ 57.003906,  55.003906,  42.003906],\n",
       "        [ 63.007812,  61.007812,  48.007812],\n",
       "        [ 71.01172 ,  69.01172 ,  56.01172 ],\n",
       "        [ 75.01172 ,  73.01172 ,  61.01172 ],\n",
       "        [ 77.00781 ,  75.00781 ,  63.007812],\n",
       "        [ 78.00391 ,  76.00391 ,  64.00391 ],\n",
       "        [ 77.00391 ,  75.00391 ,  63.003906],\n",
       "        [ 74.00781 ,  72.00781 ,  59.007812],\n",
       "        [ 73.00391 ,  71.00391 ,  56.003906],\n",
       "        [ 77.00391 ,  71.00391 ,  55.003906],\n",
       "        [ 82.      ,  76.      ,  60.      ],\n",
       "        [ 85.00391 ,  79.00391 ,  63.003906],\n",
       "        [ 88.      ,  82.      ,  70.      ],\n",
       "        [ 88.      ,  81.      ,  71.      ],\n",
       "        [ 85.      ,  82.      ,  75.      ],\n",
       "        [ 83.      ,  80.      ,  73.      ],\n",
       "        [ 77.99609 ,  76.99609 ,  71.99609 ],\n",
       "        [ 74.99609 ,  73.99609 ,  69.99609 ],\n",
       "        [ 72.      ,  71.      ,  69.      ],\n",
       "        [ 70.      ,  69.      ,  65.      ],\n",
       "        [ 69.      ,  68.      ,  64.      ],\n",
       "        [ 69.      ,  68.      ,  64.      ],\n",
       "        [ 70.      ,  69.      ,  65.      ],\n",
       "        [ 71.      ,  70.      ,  66.      ],\n",
       "        [ 70.      ,  69.      ,  65.      ],\n",
       "        [ 69.99609 ,  68.99609 ,  66.99609 ],\n",
       "        [ 68.      ,  67.      ,  65.      ],\n",
       "        [ 66.      ,  65.      ,  63.      ],\n",
       "        [ 64.      ,  63.      ,  59.      ],\n",
       "        [ 63.      ,  62.      ,  58.      ],\n",
       "        [ 63.      ,  62.      ,  58.      ],\n",
       "        [ 65.      ,  64.      ,  60.      ],\n",
       "        [ 69.00391 ,  70.00391 ,  65.00391 ],\n",
       "        [ 78.00391 ,  78.00391 ,  69.99609 ],\n",
       "        [ 89.00781 ,  87.00781 ,  75.00781 ],\n",
       "        [103.00391 ,  97.00391 ,  83.00391 ],\n",
       "        [113.01172 , 106.01172 ,  90.01172 ],\n",
       "        [123.00781 , 114.00781 ,  97.00781 ],\n",
       "        [135.01172 , 124.01172 , 102.01172 ],\n",
       "        [144.00781 , 133.00781 , 111.00781 ],\n",
       "        [149.0039  , 138.0039  , 116.00391 ],\n",
       "        [149.00781 , 137.00781 , 111.00781 ],\n",
       "        [147.0039  , 135.0039  , 111.00391 ],\n",
       "        [145.0039  , 133.0039  , 111.00391 ],\n",
       "        [140.0039  , 127.00391 , 108.00391 ],\n",
       "        [130.0039  , 119.00391 , 101.00391 ],\n",
       "        [118.00391 , 108.00391 ,  96.00391 ],\n",
       "        [108.      , 100.      ,  89.      ],\n",
       "        [ 99.      ,  93.      ,  79.      ],\n",
       "        [ 96.99609 ,  90.99609 ,  76.99609 ],\n",
       "        [ 94.      ,  88.      ,  74.      ],\n",
       "        [ 90.99609 ,  84.99609 ,  72.99609 ],\n",
       "        [ 92.      ,  86.      ,  74.      ],\n",
       "        [ 93.      ,  87.      ,  75.      ]],\n",
       "\n",
       "       [[156.01172 , 187.01172 , 216.01172 ],\n",
       "        [157.02344 , 188.02344 , 217.02344 ],\n",
       "        [159.01172 , 190.01172 , 219.01172 ],\n",
       "        [162.      , 191.      , 221.      ],\n",
       "        [163.      , 192.      , 222.      ],\n",
       "        [164.01172 , 193.01172 , 223.01172 ],\n",
       "        [167.01172 , 194.01172 , 223.01172 ],\n",
       "        [168.01172 , 195.01172 , 224.01172 ],\n",
       "        [169.      , 196.      , 225.      ],\n",
       "        [170.01172 , 197.01172 , 226.01172 ],\n",
       "        [171.01172 , 198.01172 , 225.01172 ],\n",
       "        [172.      , 199.      , 226.      ],\n",
       "        [173.      , 200.      , 227.      ],\n",
       "        [175.      , 201.      , 226.      ],\n",
       "        [176.      , 202.      , 227.      ],\n",
       "        [177.      , 203.      , 228.      ],\n",
       "        [177.      , 203.      , 228.      ],\n",
       "        [178.98828 , 204.98828 , 229.98828 ],\n",
       "        [179.      , 205.      , 230.      ],\n",
       "        [181.      , 205.      , 229.      ],\n",
       "        [182.      , 206.      , 230.      ],\n",
       "        [182.      , 206.      , 230.      ],\n",
       "        [183.      , 208.      , 230.      ],\n",
       "        [184.      , 209.      , 231.      ],\n",
       "        [184.98828 , 209.98828 , 231.98828 ],\n",
       "        [184.97656 , 209.97656 , 231.97656 ],\n",
       "        [186.      , 207.98828 , 230.96484 ],\n",
       "        [185.      , 206.98828 , 229.96484 ],\n",
       "        [180.01172 , 202.      , 224.97656 ],\n",
       "        [173.01172 , 194.98828 , 218.98828 ],\n",
       "        [167.01172 , 186.98828 , 210.96484 ],\n",
       "        [154.02344 , 175.      , 193.97656 ],\n",
       "        [138.      , 158.97656 , 177.92969 ],\n",
       "        [125.98828 , 136.95312 , 142.91797 ],\n",
       "        [109.      , 105.98828 ,  98.96484 ],\n",
       "        [101.01172 ,  93.      ,  79.97656 ],\n",
       "        [ 99.03516 ,  91.02344 ,  78.      ],\n",
       "        [ 99.      ,  91.97656 ,  73.98828 ],\n",
       "        [ 98.97656 ,  90.97656 ,  77.97656 ],\n",
       "        [ 99.      ,  92.      ,  76.      ],\n",
       "        [ 99.      ,  92.      ,  74.      ],\n",
       "        [101.96484 ,  94.96484 ,  76.96484 ],\n",
       "        [109.98828 , 100.98828 ,  85.98828 ],\n",
       "        [120.01172 , 108.01172 ,  96.01172 ],\n",
       "        [131.01172 , 117.01172 , 108.01172 ],\n",
       "        [138.02344 , 126.01172 , 114.046875],\n",
       "        [143.      , 130.98828 , 119.02344 ],\n",
       "        [146.01172 , 134.      , 122.03516 ],\n",
       "        [144.02344 , 130.02344 , 121.02344 ],\n",
       "        [138.98828 , 125.98828 , 116.98828 ],\n",
       "        [128.01172 , 120.01172 , 109.01172 ],\n",
       "        [115.02344 , 106.02344 ,  97.02344 ],\n",
       "        [105.01172 ,  98.01172 ,  90.01172 ],\n",
       "        [ 92.98828 ,  87.98828 ,  81.98828 ],\n",
       "        [ 82.98828 ,  79.98828 ,  72.98828 ],\n",
       "        [ 76.      ,  73.      ,  66.      ],\n",
       "        [ 68.01172 ,  65.01172 ,  58.01172 ],\n",
       "        [ 61.      ,  58.      ,  51.      ],\n",
       "        [ 59.      ,  54.      ,  51.      ],\n",
       "        [ 60.023438,  51.023438,  54.023438],\n",
       "        [ 61.01172 ,  48.01172 ,  57.01172 ],\n",
       "        [ 60.      ,  48.      ,  52.      ],\n",
       "        [ 60.01172 ,  48.01172 ,  52.01172 ],\n",
       "        [ 59.      ,  47.      ,  51.      ],\n",
       "        [ 56.      ,  46.      ,  47.      ],\n",
       "        [ 53.98828 ,  45.98828 ,  42.98828 ],\n",
       "        [ 45.98828 ,  41.98828 ,  32.98828 ],\n",
       "        [ 42.98828 ,  40.      ,  30.964844],\n",
       "        [ 42.98828 ,  40.98828 ,  28.976562],\n",
       "        [ 43.98828 ,  41.98828 ,  28.964844],\n",
       "        [ 46.      ,  44.      ,  31.      ],\n",
       "        [ 48.035156,  46.035156,  33.035156],\n",
       "        [ 51.046875,  49.046875,  36.046875],\n",
       "        [ 58.046875,  56.046875,  43.046875],\n",
       "        [ 70.01172 ,  66.01172 ,  54.01172 ],\n",
       "        [ 76.03516 ,  72.03516 ,  60.035156],\n",
       "        [ 84.05859 ,  80.05859 ,  68.05859 ],\n",
       "        [ 87.03516 ,  85.03516 ,  73.03516 ],\n",
       "        [ 85.05859 ,  83.05859 ,  71.05859 ],\n",
       "        [ 86.02344 ,  84.02344 ,  72.02344 ],\n",
       "        [ 83.02344 ,  80.02344 ,  71.046875],\n",
       "        [ 81.01172 ,  79.      ,  67.03516 ],\n",
       "        [ 79.02344 ,  77.02344 ,  64.02344 ],\n",
       "        [ 83.01172 ,  77.01172 ,  63.035156],\n",
       "        [ 84.02344 ,  78.02344 ,  64.046875],\n",
       "        [ 88.      ,  82.      ,  68.02344 ],\n",
       "        [ 89.98828 ,  82.98828 ,  72.98828 ],\n",
       "        [ 90.01172 ,  83.01172 ,  73.01172 ],\n",
       "        [ 85.      ,  82.      ,  75.      ],\n",
       "        [ 83.      ,  80.      ,  73.      ],\n",
       "        [ 76.      ,  75.      ,  70.      ],\n",
       "        [ 73.01172 ,  72.01172 ,  68.01172 ],\n",
       "        [ 71.      ,  70.      ,  68.      ],\n",
       "        [ 70.      ,  69.      ,  65.      ],\n",
       "        [ 69.      ,  68.      ,  64.      ],\n",
       "        [ 69.      ,  68.      ,  64.      ],\n",
       "        [ 69.      ,  68.      ,  64.      ],\n",
       "        [ 69.98828 ,  68.98828 ,  64.98828 ],\n",
       "        [ 69.      ,  68.      ,  64.      ],\n",
       "        [ 67.98828 ,  66.98828 ,  62.98828 ],\n",
       "        [ 66.98828 ,  65.98828 ,  61.98828 ],\n",
       "        [ 64.98828 ,  63.98828 ,  59.98828 ],\n",
       "        [ 63.      ,  62.      ,  58.      ],\n",
       "        [ 62.      ,  61.      ,  57.      ],\n",
       "        [ 63.      ,  62.      ,  58.      ],\n",
       "        [ 65.02344 ,  64.02344 ,  60.023438],\n",
       "        [ 72.03516 ,  71.01172 ,  65.98828 ],\n",
       "        [ 83.02344 ,  80.01172 ,  70.98828 ],\n",
       "        [ 96.03516 ,  92.01172 ,  79.98828 ],\n",
       "        [112.03516 , 106.02344 ,  90.02344 ],\n",
       "        [127.02344 , 118.03516 , 101.01172 ],\n",
       "        [135.0586  , 127.02344 , 108.03516 ],\n",
       "        [145.98828 , 134.98828 , 112.98828 ],\n",
       "        [150.98828 , 139.98828 , 117.98828 ],\n",
       "        [152.01172 , 141.01172 , 119.01172 ],\n",
       "        [150.98828 , 139.01172 , 115.      ],\n",
       "        [144.98828 , 133.      , 111.      ],\n",
       "        [143.98828 , 131.01172 , 112.      ],\n",
       "        [139.98828 , 128.98828 , 110.98828 ],\n",
       "        [130.97656 , 119.01172 , 103.02344 ],\n",
       "        [118.98828 , 110.98828 ,  99.98828 ],\n",
       "        [107.96484 , 100.96484 ,  90.96484 ],\n",
       "        [ 96.97656 ,  92.97656 ,  82.      ],\n",
       "        [ 92.01172 ,  88.01172 ,  77.03516 ],\n",
       "        [ 89.98828 ,  85.98828 ,  75.01172 ],\n",
       "        [ 86.98828 ,  82.97656 ,  74.01172 ],\n",
       "        [ 89.97656 ,  85.96484 ,  77.      ],\n",
       "        [ 91.      ,  86.98828 ,  78.02344 ]]], dtype=float32)"
      ]
     },
     "execution_count": 24,
     "metadata": {},
     "output_type": "execute_result"
    }
   ],
   "source": [
    "img, label = process_image(\"images\\\\cat\\\\20 Reasons Why Cats Make the Best Pets....jpg\")\n",
    "img.numpy()[: 2]"
   ]
  },
  {
   "cell_type": "code",
   "execution_count": 25,
   "id": "7e6c9f5f-a96e-4dbf-bb9b-dedcd81ba3d7",
   "metadata": {
    "scrolled": true
   },
   "outputs": [],
   "source": [
    "train_ds = train_ds.map(process_image)\n",
    "test_ds = test_ds.map(process_image)"
   ]
  },
  {
   "cell_type": "code",
   "execution_count": 26,
   "id": "76edfd76-48ad-492a-8a07-b37fb1247a1e",
   "metadata": {},
   "outputs": [],
   "source": [
    "def scale(image, label):\n",
    "    return image/255, label"
   ]
  },
  {
   "cell_type": "code",
   "execution_count": 27,
   "id": "133a0597-7da2-4c39-acd7-d8c2ef36009b",
   "metadata": {},
   "outputs": [],
   "source": [
    "train_ds = train_ds.map(scale)"
   ]
  },
  {
   "cell_type": "code",
   "execution_count": 28,
   "id": "8f881b06-d1df-4845-add5-cb000dab311d",
   "metadata": {},
   "outputs": [
    {
     "name": "stdout",
     "output_type": "stream",
     "text": [
      "****Image:  [0.5058824  0.5764706  0.24705882]\n",
      "****Label:  b'cat'\n",
      "****Image:  [0.32156864 0.32156864 0.32156864 1.        ]\n",
      "****Label:  b'cat'\n",
      "****Image:  [0.44313726 0.28627452 0.04705882]\n",
      "****Label:  b'dog'\n",
      "****Image:  [0.10422315 0.179294   0.07285061]\n",
      "****Label:  b'dog'\n",
      "****Image:  [0.2784314  0.4392157  0.29803923 0.        ]\n",
      "****Label:  b'cat'\n"
     ]
    }
   ],
   "source": [
    "for image, label in train_ds.take(5):\n",
    "    print(\"****Image: \",image.numpy()[0][0])\n",
    "    print(\"****Label: \",label.numpy())"
   ]
  },
  {
   "cell_type": "markdown",
   "id": "61ca7ff5-08ba-4277-bf92-01dade1a0490",
   "metadata": {},
   "source": [
    "# Reviews"
   ]
  },
  {
   "cell_type": "code",
   "execution_count": 30,
   "id": "33aa6a5b-cf57-4cf6-bff7-9abe4bad62d0",
   "metadata": {},
   "outputs": [],
   "source": [
    "reviews_ds = tf.data.Dataset.list_files('reviews/*/*', shuffle = False)"
   ]
  },
  {
   "cell_type": "code",
   "execution_count": 31,
   "id": "a0944470-1a03-462f-bbb8-6550f922f161",
   "metadata": {},
   "outputs": [
    {
     "data": {
      "text/plain": [
       "6"
      ]
     },
     "execution_count": 31,
     "metadata": {},
     "output_type": "execute_result"
    }
   ],
   "source": [
    "review_count = len(reviews_ds)\n",
    "review_count"
   ]
  },
  {
   "cell_type": "code",
   "execution_count": 32,
   "id": "4b0b7ac8-db8b-48b7-a662-63ef507ae7be",
   "metadata": {},
   "outputs": [
    {
     "data": {
      "text/plain": [
       "tensorflow.python.data.ops.from_tensor_slices_op._TensorSliceDataset"
      ]
     },
     "execution_count": 32,
     "metadata": {},
     "output_type": "execute_result"
    }
   ],
   "source": [
    "type(reviews_ds)"
   ]
  },
  {
   "cell_type": "code",
   "execution_count": 33,
   "id": "d389d5b4-5b2b-48cd-937f-43eedfd31989",
   "metadata": {},
   "outputs": [
    {
     "name": "stdout",
     "output_type": "stream",
     "text": [
      "b'reviews\\\\negative\\\\neg_1.txt'\n",
      "b'reviews\\\\negative\\\\neg_2.txt'\n",
      "b'reviews\\\\negative\\\\neg_3.txt'\n",
      "b'reviews\\\\positive\\\\pos_1.txt'\n",
      "b'reviews\\\\positive\\\\pos_2.txt'\n",
      "b'reviews\\\\positive\\\\pos_3.txt'\n"
     ]
    }
   ],
   "source": [
    "for file in reviews_ds:\n",
    "    print(file.numpy())"
   ]
  },
  {
   "cell_type": "markdown",
   "id": "26f4695e-9854-4282-8bef-6e4026896892",
   "metadata": {},
   "source": [
    "## Extract review text from these files. Extract label from folder name\n"
   ]
  },
  {
   "cell_type": "code",
   "execution_count": 35,
   "id": "612b19b9-163f-4369-97bd-91af60dcc9d8",
   "metadata": {},
   "outputs": [],
   "source": [
    "import os\n",
    "\n",
    "def extract_review_and_label(file_path):\n",
    "    return tf.io.read_file(file_path), tf.strings.split(file_path, os.path.sep)[-2]"
   ]
  },
  {
   "cell_type": "code",
   "execution_count": 36,
   "id": "9f120ecf-db63-484c-989e-7e91dbd1786d",
   "metadata": {},
   "outputs": [
    {
     "name": "stdout",
     "output_type": "stream",
     "text": [
      "Review :  b\"Basically there's a family where a little boy (Jak\"\n",
      "Label :  b'negative'\n",
      "Review :  b'This show was an amazing, fresh & innovative idea '\n",
      "Label :  b'negative'\n",
      "Review :  b''\n",
      "Label :  b'negative'\n",
      "Review :  b'One of the other reviewers has mentioned that afte'\n",
      "Label :  b'positive'\n",
      "Review :  b'A wonderful little production. <br /><br />The fil'\n",
      "Label :  b'positive'\n",
      "Review :  b''\n",
      "Label :  b'positive'\n"
     ]
    }
   ],
   "source": [
    "reviews_ds_1 = reviews_ds.map(extract_review_and_label)\n",
    "\n",
    "for review, label in reviews_ds_1:\n",
    "    print(\"Review : \", review.numpy()[: 50])\n",
    "    print(\"Label : \", label.numpy())"
   ]
  },
  {
   "cell_type": "markdown",
   "id": "9c9a5fd5-5fa3-4199-85fe-84f0a94ce7ee",
   "metadata": {},
   "source": [
    "## Filter blank reviews\n"
   ]
  },
  {
   "cell_type": "code",
   "execution_count": 38,
   "id": "e5550fc3-5dff-467d-ba42-9446c37a3afb",
   "metadata": {},
   "outputs": [
    {
     "name": "stdout",
     "output_type": "stream",
     "text": [
      "Review :  b\"Basically there's a family where a little boy (Jak\"\n",
      "Label :  b'negative'\n",
      "Review :  b'This show was an amazing, fresh & innovative idea '\n",
      "Label :  b'negative'\n",
      "Review :  b'One of the other reviewers has mentioned that afte'\n",
      "Label :  b'positive'\n",
      "Review :  b'A wonderful little production. <br /><br />The fil'\n",
      "Label :  b'positive'\n"
     ]
    }
   ],
   "source": [
    "reviews_ds_2 = reviews_ds_1.filter(lambda review, label : review != \"\")\n",
    "\n",
    "for review, label in reviews_ds_2.as_numpy_iterator():\n",
    "    print(\"Review : \", review[: 50])\n",
    "    print(\"Label : \", label)"
   ]
  },
  {
   "cell_type": "markdown",
   "id": "adb7b5c7-fcad-4ed2-a666-7949c9758985",
   "metadata": {},
   "source": [
    "## Perform map, filter and shuffle all in single line of code\n"
   ]
  },
  {
   "cell_type": "code",
   "execution_count": 40,
   "id": "c472d6b1-980a-45b9-8028-e5109c4b0d6e",
   "metadata": {},
   "outputs": [
    {
     "name": "stdout",
     "output_type": "stream",
     "text": [
      "Review : b'This show was an amazing, fresh & innovative idea '\n",
      "Label : b'negative'\n",
      "Review : b'One of the other reviewers has mentioned that afte'\n",
      "Label : b'positive'\n",
      "Review : b\"Basically there's a family where a little boy (Jak\"\n",
      "Label : b'negative'\n",
      "Review : b'A wonderful little production. <br /><br />The fil'\n",
      "Label : b'positive'\n"
     ]
    }
   ],
   "source": [
    "final_ds = reviews_ds.map(extract_review_and_label).filter(lambda review, label : review != \"\").shuffle(3)\n",
    "\n",
    "for review, label in final_ds.as_numpy_iterator():\n",
    "    print(\"Review :\", review[: 50])\n",
    "    print(\"Label :\", label)"
   ]
  },
  {
   "cell_type": "code",
   "execution_count": null,
   "id": "5359925c-8cdb-4292-b980-a3965a706a35",
   "metadata": {},
   "outputs": [],
   "source": []
  }
 ],
 "metadata": {
  "kernelspec": {
   "display_name": "Python 3 (ipykernel)",
   "language": "python",
   "name": "python3"
  },
  "language_info": {
   "codemirror_mode": {
    "name": "ipython",
    "version": 3
   },
   "file_extension": ".py",
   "mimetype": "text/x-python",
   "name": "python",
   "nbconvert_exporter": "python",
   "pygments_lexer": "ipython3",
   "version": "3.11.7"
  }
 },
 "nbformat": 4,
 "nbformat_minor": 5
}
